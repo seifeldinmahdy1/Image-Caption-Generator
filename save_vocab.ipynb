{
 "cells": [
  {
   "cell_type": "code",
   "execution_count": null,
   "id": "f9a68bbe",
   "metadata": {},
   "outputs": [],
   "source": [
    "import json\n",
    "import nltk\n",
    "import pickle\n",
    "from collections import defaultdict\n",
    "from typing import Dict, Tuple\n"
   ]
  },
  {
   "cell_type": "code",
   "execution_count": null,
   "id": "a8dfc986",
   "metadata": {},
   "outputs": [],
   "source": [
    "def create_vocab_and_tokenize(annotation_file: str, threshold: int = 5) -> Tuple[Dict, Dict]:\n",
    "    \"\"\"\n",
    "    Create word-to-index and index-to-word mappings and tokenize captions\n",
    "\n",
    "    Args:\n",
    "        annotation_file: Path to the training annotation file (e.g., captions_train2014.json)\n",
    "        threshold: Minimum word count threshold\n",
    "\n",
    "    Returns:\n",
    "        word2idx: Dictionary mapping words to indices\n",
    "        idx2word: Dictionary mapping indices to words\n",
    "    \"\"\"\n",
    "    with open(annotation_file, 'r') as f:\n",
    "        data = json.load(f)\n",
    "\n",
    "    annotations = data['annotations']\n",
    "    captions = [ann['caption'] for ann in annotations]\n",
    "\n",
    "    word_counts = defaultdict(int)\n",
    "    for caption in captions:\n",
    "        tokens = nltk.tokenize.word_tokenize(caption.lower())\n",
    "        for token in tokens:\n",
    "            word_counts[token] += 1\n",
    "\n",
    "    words = [w for w, c in word_counts.items() if c >= threshold]\n",
    "\n",
    "    word2idx = {w: i + 4 for i, w in enumerate(words)}\n",
    "    word2idx['<pad>'] = 0\n",
    "    word2idx['<start>'] = 1\n",
    "    word2idx['<end>'] = 2\n",
    "    word2idx['<unk>'] = 3\n",
    "\n",
    "    idx2word = {i: w for w, i in word2idx.items()}\n",
    "\n",
    "    print(f\"Vocabulary size: {len(word2idx)}\")\n",
    "\n",
    "    return word2idx, idx2word"
   ]
  },
  {
   "cell_type": "code",
   "execution_count": null,
   "id": "60bedecd",
   "metadata": {},
   "outputs": [
    {
     "name": "stderr",
     "output_type": "stream",
     "text": [
      "[nltk_data] Downloading package punkt to /Users/seifmahdy/nltk_data...\n",
      "[nltk_data]   Package punkt is already up-to-date!\n",
      "[nltk_data] Downloading package punkt_tab to\n",
      "[nltk_data]     /Users/seifmahdy/nltk_data...\n",
      "[nltk_data]   Unzipping tokenizers/punkt_tab.zip.\n"
     ]
    },
    {
     "name": "stdout",
     "output_type": "stream",
     "text": [
      "Vocabulary size: 8853\n",
      "Vocabulary saved to vocab.pkl\n"
     ]
    }
   ],
   "source": [
    "nltk.download('punkt')\n",
    "nltk.download('punkt_tab')\n",
    "\n",
    "annotation_file = '/Users/seifmahdy/Desktop/Programming/Python/NLP/Final Project/annotations/captions_train2014.json'\n",
    "word2idx, idx2word = create_vocab_and_tokenize(annotation_file)\n",
    "\n",
    "with open('vocab.pkl', 'wb') as f:\n",
    "    pickle.dump({'word2idx': word2idx, 'idx2word': idx2word}, f)\n",
    "\n",
    "print(\"Vocabulary saved to vocab.pkl\")"
   ]
  }
 ],
 "metadata": {
  "kernelspec": {
   "display_name": "3.10.13",
   "language": "python",
   "name": "python3"
  },
  "language_info": {
   "codemirror_mode": {
    "name": "ipython",
    "version": 3
   },
   "file_extension": ".py",
   "mimetype": "text/x-python",
   "name": "python",
   "nbconvert_exporter": "python",
   "pygments_lexer": "ipython3",
   "version": "3.10.13"
  }
 },
 "nbformat": 4,
 "nbformat_minor": 5
}
